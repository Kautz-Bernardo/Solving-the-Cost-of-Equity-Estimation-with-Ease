{
 "cells": [
  {
   "cell_type": "markdown",
   "metadata": {},
   "source": [
    "Work authored by Bernardo Kautz. Follow on LinkedIn: https://www.linkedin.com/in/bernardo-kautz/."
   ]
  },
  {
   "cell_type": "code",
   "execution_count": null,
   "metadata": {},
   "outputs": [],
   "source": [
    "import yfinance as yf\n",
    "import numpy as np\n",
    "from datetime import datetime\n",
    "from dateutil.relativedelta import relativedelta\n",
    "import requests"
   ]
  },
  {
   "cell_type": "code",
   "execution_count": null,
   "metadata": {},
   "outputs": [],
   "source": [
    "def import_securities(tickers):\n",
    "    start = datetime.now() - relativedelta(years = 5) #✎ Adjustable parameter(s)\n",
    "    end = datetime.now() #✎ Adjustable parameter(s)\n",
    "    \n",
    "    data = yf.download(tickers, start = start, end = end)['Adj Close']\n",
    "    data.index = data.index.date\n",
    "    data.columns.name = None\n",
    "\n",
    "    return data"
   ]
  },
  {
   "cell_type": "code",
   "execution_count": null,
   "metadata": {},
   "outputs": [],
   "source": [
    "def find_beta(prices, asset, benchmark):\n",
    "    log_returns = np.log(prices / prices.shift(1))\n",
    "    log_returns = log_returns.dropna()\n",
    "    \n",
    "    cov_asset_benchmark = log_returns[asset].cov(log_returns[benchmark])\n",
    "    var_benchmark = log_returns[benchmark].var()\n",
    "\n",
    "    return cov_asset_benchmark / var_benchmark"
   ]
  },
  {
   "cell_type": "code",
   "execution_count": null,
   "metadata": {},
   "outputs": [],
   "source": [
    "def get_selic_rate():\n",
    "    url = 'https://api.bcb.gov.br/dados/serie/bcdata.sgs.432/dados/ultimos/1?formato=json'\n",
    "    response = requests.get(url)\n",
    "    \n",
    "    if response.status_code == 200:\n",
    "        data = response.json()\n",
    "        data = float(data[0]['valor']) / 100\n",
    "        return data\n",
    "    else:\n",
    "        raise Exception('Unable to fetch the Selic rate')"
   ]
  },
  {
   "cell_type": "code",
   "execution_count": null,
   "metadata": {},
   "outputs": [],
   "source": [
    "def run_capm(prices, asset, benchmark, risk_free_rate, risk_premium = 'benchmark'):\n",
    "    log_returns = np.log(prices / prices.shift(1))\n",
    "    log_returns = log_returns.dropna()\n",
    "\n",
    "    if risk_premium == 'benchmark':\n",
    "        risk_premium = (log_returns[benchmark].mean() * 252) - risk_free_rate\n",
    "\n",
    "    beta = find_beta(prices, asset, benchmark)\n",
    "\n",
    "    return (risk_free_rate + beta * risk_premium)"
   ]
  },
  {
   "cell_type": "code",
   "execution_count": null,
   "metadata": {},
   "outputs": [],
   "source": [
    "asset = 'EMBR3.SA' #✎ Settable parameter(s)\n",
    "benchmark = '^BVSP' #✎ Settable parameter(s)\n",
    "prices = import_securities([asset, benchmark])\n",
    "risk_free_rate = get_selic_rate()\n",
    "\n",
    "print(f'Beta: {round(find_beta(prices, asset, benchmark), 2)}')\n",
    "print(f'CAPM estimated annual return: {round(run_capm(prices, asset, benchmark, risk_free_rate) * 100, 2)}%')\n",
    "\n",
    "prices.tail()"
   ]
  }
 ],
 "metadata": {
  "kernelspec": {
   "display_name": "learning",
   "language": "python",
   "name": "python3"
  },
  "language_info": {
   "codemirror_mode": {
    "name": "ipython",
    "version": 3
   },
   "file_extension": ".py",
   "mimetype": "text/x-python",
   "name": "python",
   "nbconvert_exporter": "python",
   "pygments_lexer": "ipython3",
   "version": "3.12.5"
  }
 },
 "nbformat": 4,
 "nbformat_minor": 2
}
